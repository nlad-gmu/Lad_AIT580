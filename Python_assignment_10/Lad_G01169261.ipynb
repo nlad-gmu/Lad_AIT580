{
 "cells": [
  {
   "cell_type": "code",
   "execution_count": 5,
   "metadata": {},
   "outputs": [],
   "source": [
    "import pandas as pd\n",
    "\n",
    "data = pd.read_csv('/home/administrator/Desktop/Python_Assignment/EmployeeAttrition.csv')\n"
   ]
  },
  {
   "cell_type": "code",
   "execution_count": 6,
   "metadata": {},
   "outputs": [
    {
     "name": "stdout",
     "output_type": "stream",
     "text": [
      "   Age Attrition     BusinessTravel  DailyRate              Department  \\\n",
      "0   41       Yes      Travel_Rarely       1102                   Sales   \n",
      "1   49        No  Travel_Frequently        279  Research & Development   \n",
      "2   37       Yes      Travel_Rarely       1373  Research & Development   \n",
      "3   33        No  Travel_Frequently       1392  Research & Development   \n",
      "4   27        No      Travel_Rarely        591  Research & Development   \n",
      "\n",
      "   DistanceFromHome  Education EducationField  EmployeeCount  EmployeeNumber  \\\n",
      "0                 1          2  Life Sciences              1               1   \n",
      "1                 8          1  Life Sciences              1               2   \n",
      "2                 2          2          Other              1               4   \n",
      "3                 3          4  Life Sciences              1               5   \n",
      "4                 2          1        Medical              1               7   \n",
      "\n",
      "           ...           RelationshipSatisfaction StandardHours  \\\n",
      "0          ...                                  1            80   \n",
      "1          ...                                  4            80   \n",
      "2          ...                                  2            80   \n",
      "3          ...                                  3            80   \n",
      "4          ...                                  4            80   \n",
      "\n",
      "   StockOptionLevel  TotalWorkingYears  TrainingTimesLastYear WorkLifeBalance  \\\n",
      "0                 0                  8                      0               1   \n",
      "1                 1                 10                      3               3   \n",
      "2                 0                  7                      3               3   \n",
      "3                 0                  8                      3               3   \n",
      "4                 1                  6                      3               3   \n",
      "\n",
      "   YearsAtCompany YearsInCurrentRole  YearsSinceLastPromotion  \\\n",
      "0               6                  4                        0   \n",
      "1              10                  7                        1   \n",
      "2               0                  0                        0   \n",
      "3               8                  7                        3   \n",
      "4               2                  2                        2   \n",
      "\n",
      "   YearsWithCurrManager  \n",
      "0                     5  \n",
      "1                     7  \n",
      "2                     0  \n",
      "3                     0  \n",
      "4                     2  \n",
      "\n",
      "[5 rows x 35 columns]\n"
     ]
    }
   ],
   "source": [
    "print(data.head())"
   ]
  },
  {
   "cell_type": "code",
   "execution_count": 4,
   "metadata": {},
   "outputs": [
    {
     "name": "stdout",
     "output_type": "stream",
     "text": [
      "   Age Attrition     BusinessTravel  DailyRate              Department  \\\n",
      "0   41       Yes      Travel_Rarely       1102                   Sales   \n",
      "1   49        No  Travel_Frequently        279  Research & Development   \n",
      "2   37       Yes      Travel_Rarely       1373  Research & Development   \n",
      "3   33        No  Travel_Frequently       1392  Research & Development   \n",
      "4   27        No      Travel_Rarely        591  Research & Development   \n",
      "\n",
      "   DistanceFromHome  Education EducationField  EmployeeCount  EmployeeNumber  \\\n",
      "0                 1          2  Life Sciences              1               1   \n",
      "1                 8          1  Life Sciences              1               2   \n",
      "2                 2          2          Other              1               4   \n",
      "3                 3          4  Life Sciences              1               5   \n",
      "4                 2          1        Medical              1               7   \n",
      "\n",
      "   ...  RelationshipSatisfaction StandardHours  StockOptionLevel  \\\n",
      "0  ...                         1            80                 0   \n",
      "1  ...                         4            80                 1   \n",
      "2  ...                         2            80                 0   \n",
      "3  ...                         3            80                 0   \n",
      "4  ...                         4            80                 1   \n",
      "\n",
      "   TotalWorkingYears  TrainingTimesLastYear WorkLifeBalance  YearsAtCompany  \\\n",
      "0                  8                      0               1               6   \n",
      "1                 10                      3               3              10   \n",
      "2                  7                      3               3               0   \n",
      "3                  8                      3               3               8   \n",
      "4                  6                      3               3               2   \n",
      "\n",
      "  YearsInCurrentRole  YearsSinceLastPromotion  YearsWithCurrManager  \n",
      "0                  4                        0                     5  \n",
      "1                  7                        1                     7  \n",
      "2                  0                        0                     0  \n",
      "3                  7                        3                     0  \n",
      "4                  2                        2                     2  \n",
      "\n",
      "[5 rows x 35 columns]\n"
     ]
    }
   ],
   "source": [
    "#Check the head of the DataFrame.\n",
    "print(data.head())"
   ]
  },
  {
   "cell_type": "code",
   "execution_count": 41,
   "metadata": {},
   "outputs": [
    {
     "name": "stdout",
     "output_type": "stream",
     "text": [
      "1470\n",
      "6502.931292517007\n",
      "100\n",
      "               Department                JobRole MaritalStatus OverTime\n",
      "6  Research & Development  Laboratory Technician       Married      Yes\n",
      "190    259\n",
      "Name: EmployeeNumber, dtype: int64\n",
      "Age\n",
      "59    992.3\n",
      "60    833.2\n",
      "Name: DailyRate, dtype: float64\n",
      "['Life Sciences' 'Other' 'Medical' 'Marketing' 'Technical Degree'\n",
      " 'Human Resources']\n",
      "Sales Executive              326\n",
      "Research Scientist           292\n",
      "Laboratory Technician        259\n",
      "Manufacturing Director       145\n",
      "Healthcare Representative    131\n",
      "Name: JobRole, dtype: int64\n",
      "3\n",
      "-0.011296116736573901\n"
     ]
    }
   ],
   "source": [
    "#Q1: Find the number of entries/rows and columns in the data.\n",
    "print(len(data))\n",
    "#Q2: What is the average Monthly Income?\n",
    "\n",
    "print(data[\"MonthlyIncome\"].mean())\n",
    "\n",
    "#Q3: What is the highest amount of HourlyRate ?\n",
    "\n",
    "print(data[\"HourlyRate\"].max())\n",
    "\n",
    "#Q4: What is the Department, JobRole, MaritalStatus and OverTime of EmployeeNumber 10?\n",
    "\n",
    "print(data.loc[data[\"EmployeeNumber\"]==10,[\"Department\",\"JobRole\",\"MaritalStatus\",\"OverTime\"]])\n",
    "\n",
    "\n",
    "#Q5: What is the Employee ID of highest MonthlyIncome paid employee?\n",
    "print(data[data.MonthlyIncome==data.MonthlyIncome.max()][\"EmployeeNumber\"])\n",
    "#Q6: What is the average(mean) DailyRate group by Age for all Employees whose age is greater than 58. (hint: use groupby function)\n",
    "\n",
    "print(data[data[\"Age\"]>58].groupby(\"Age\")[\"DailyRate\"].mean())\n",
    "\n",
    "\n",
    "#Q7: How many unique EducationField are there?\n",
    "\n",
    "print(data['EducationField'].unique())\n",
    "#Q8: What are the top 5 most common JobRole?\n",
    "\n",
    "print(data['JobRole'].value_counts().head(5))\n",
    "#Q9: How many JobRoles represented by less than 100 employees?\n",
    "\n",
    "print(sum(data['JobRole'].value_counts()<100))\n",
    "#Q10: What is the correlation between Education and JobSatisfaction?\n",
    "\n",
    "print(data['Education'].corr(data['JobSatisfaction']))"
   ]
  },
  {
   "cell_type": "code",
   "execution_count": null,
   "metadata": {},
   "outputs": [],
   "source": []
  }
 ],
 "metadata": {
  "kernelspec": {
   "display_name": "Python 2",
   "language": "python",
   "name": "python2"
  },
  "language_info": {
   "codemirror_mode": {
    "name": "ipython",
    "version": 2
   },
   "file_extension": ".py",
   "mimetype": "text/x-python",
   "name": "python",
   "nbconvert_exporter": "python",
   "pygments_lexer": "ipython2",
   "version": "2.7.12"
  }
 },
 "nbformat": 4,
 "nbformat_minor": 2
}
