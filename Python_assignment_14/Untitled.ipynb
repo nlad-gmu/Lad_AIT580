{
 "cells": [
  {
   "cell_type": "code",
   "execution_count": 13,
   "metadata": {},
   "outputs": [],
   "source": [
    "import pandas as pd\n",
    "import numpy as np"
   ]
  },
  {
   "cell_type": "code",
   "execution_count": 14,
   "metadata": {},
   "outputs": [],
   "source": [
    "data1=pd.read_csv(\"C:/Users/Neha/Documents/AIT 580/MERGED2017_18_PP.csv\")"
   ]
  },
  {
   "cell_type": "code",
   "execution_count": 15,
   "metadata": {},
   "outputs": [],
   "source": [
    "total_count1=data1['ACCREDAGENCY'].value_counts('')"
   ]
  },
  {
   "cell_type": "code",
   "execution_count": 16,
   "metadata": {},
   "outputs": [
    {
     "data": {
      "text/plain": [
       "Higher Learning Commission                                                                                                                            1218\n",
       "National Accrediting Commission of Career Arts and Sciences                                                                                            964\n",
       "Southern Association of Colleges and Schools Commission on Colleges                                                                                    862\n",
       "Middle States Commission on Higher Education                                                                                                           665\n",
       "Accrediting Commission of Career Schools and Colleges                                                                                                  544\n",
       "Council on Occupational Education                                                                                                                      507\n",
       "Accrediting Bureau of Health Education Schools                                                                                                         230\n",
       "New England Commission on Higher Education                                                                                                             226\n",
       "Western Association of Schools and Colleges Senior Colleges and University Commission                                                                  197\n",
       "Northwest Commission on Colleges and Universities                                                                                                      173\n",
       "Western Association of Schools and Colleges Accrediting Commission for Community and Junior Colleges                                                   162\n",
       "Accrediting Council for Independent Colleges and Schools                                                                                               100\n",
       "Accrediting Council for Continuing Education & Training                                                                                                 86\n",
       "Commission on Accrediting of the Association of Theological Schools                                                                                     74\n",
       "Association of Advanced Rabbinical and Talmudic Schools                                                                                                 68\n",
       "Accreditation Commission for Education in Nursing                                                                                                       59\n",
       "Association for Bibical Higher Educaiton                                                                                                                51\n",
       "Oklahoma State Board of Career and Technology Education                                                                                                 42\n",
       "Transnational Association of Christian Colleges and Schools                                                                                             40\n",
       "Accrediting Commission for Acupuncture and Oriental Medicine                                                                                            32\n",
       "Distance Education Accrediting Commission                                                                                                               23\n",
       "Middle States Commission on Secondary Education                                                                                                         23\n",
       "Commission on Massage Therapy Accreditation                                                                                                             20\n",
       "New York State Board of Regents State Education Department Office of the Professions (Public Postsecondary Vocational Education Practical Nursing)      18\n",
       "American Bar Association                                                                                                                                17\n",
       "Joint Review Committee on Education in Radiologic Technology                                                                                            14\n",
       "Association of Institutions of Jewish Studies                                                                                                           10\n",
       "New York State Board of Regents and the Commissioner of Education                                                                                        8\n",
       "National Association of Schools of Theatre                                                                                                               8\n",
       "American Board of Funeral Service Education Committee on Accreditation                                                                                   8\n",
       "National Association of Schools of Arts and Design                                                                                                       8\n",
       "Pennsylvania State Board of Vocational Education                                                                                                         6\n",
       "National Association of Schools of Music                                                                                                                 6\n",
       "Puerto Rico State Agency for the Approval of Public Postsecondary Vocational and Technical Institutions and Programs                                     5\n",
       "Midwifery Education Accreditation Council                                                                                                                4\n",
       "American Osteopathic Association                                                                                                                         4\n",
       "Montessori Accreditation Council for Teacher Education                                                                                                   4\n",
       "National Association of Schools of Dance                                                                                                                 2\n",
       "American Podiatric Medical Association                                                                                                                   1\n",
       "Council on Accreditation of Nurse Anesthesia Educational Programs                                                                                        1\n",
       "Council on Occupational Education | Western Association of Schools and Colleges Commission                                                               1\n",
       "EXEMPT                                                                                                                                                   1\n",
       "American Dietetic Association                                                                                                                            1\n",
       "Name: ACCREDAGENCY, dtype: int64"
      ]
     },
     "execution_count": 16,
     "metadata": {},
     "output_type": "execute_result"
    }
   ],
   "source": [
    "total_count1"
   ]
  },
  {
   "cell_type": "code",
   "execution_count": 9,
   "metadata": {},
   "outputs": [],
   "source": [
    "df = pd.DataFrame(data1)"
   ]
  },
  {
   "cell_type": "code",
   "execution_count": 10,
   "metadata": {},
   "outputs": [
    {
     "name": "stdout",
     "output_type": "stream",
     "text": [
      "             UNITID         OPEID        OPEID6  SCH_DEG         HCM2  \\\n",
      "count  7.112000e+03  7.112000e+03   7112.000000      0.0  7112.000000   \n",
      "mean   1.867121e+06  1.866750e+06  16755.217660      NaN     0.013920   \n",
      "std    6.958737e+06  3.315240e+06  14589.294487      NaN     0.117168   \n",
      "min    1.006540e+05  1.002000e+05   1002.000000      NaN     0.000000   \n",
      "25%    1.740728e+05  3.229750e+05   3224.750000      NaN     0.000000   \n",
      "50%    2.289995e+05  1.056050e+06  10542.000000      NaN     0.000000   \n",
      "75%    4.506005e+05  3.025825e+06  30106.000000      NaN     0.000000   \n",
      "max    4.900540e+07  8.209884e+07  42698.000000      NaN     1.000000   \n",
      "\n",
      "              MAIN    NUMBRANCH      PREDDEG      HIGHDEG      CONTROL  ...  \\\n",
      "count  7112.000000  7112.000000  7112.000000  7112.000000  7112.000000  ...   \n",
      "mean      0.767717     3.883155     1.834505     2.233830     2.129218  ...   \n",
      "std       0.422319     9.088975     1.057762     1.340925     0.834518  ...   \n",
      "min       0.000000     1.000000     0.000000     0.000000     1.000000  ...   \n",
      "25%       1.000000     1.000000     1.000000     1.000000     1.000000  ...   \n",
      "50%       1.000000     1.000000     2.000000     2.000000     2.000000  ...   \n",
      "75%       1.000000     2.000000     3.000000     4.000000     3.000000  ...   \n",
      "max       1.000000    73.000000     4.000000     4.000000     3.000000  ...   \n",
      "\n",
      "       OMAWDP8_NOTFIRSTTIME  OMENRUP_NOTFIRSTTIME  OMENRYP_FULLTIME  \\\n",
      "count           3813.000000           3813.000000       3940.000000   \n",
      "mean               0.507685              0.299692          0.009377   \n",
      "std                0.226742              0.207287          0.032317   \n",
      "min                0.000000              0.000000          0.000000   \n",
      "25%                0.327900              0.145200          0.000000   \n",
      "50%                0.510500              0.264200          0.002500   \n",
      "75%                0.676500              0.409100          0.011000   \n",
      "max                1.000000              1.000000          0.680400   \n",
      "\n",
      "       OMENRAP_FULLTIME  OMAWDP8_FULLTIME  OMENRUP_FULLTIME  OMENRYP_PARTTIME  \\\n",
      "count       3940.000000       3940.000000       3940.000000       3221.000000   \n",
      "mean           0.184474          0.515397          0.290753          0.017688   \n",
      "std            0.151615          0.210909          0.200173          0.062251   \n",
      "min            0.000000          0.000000          0.000000          0.000000   \n",
      "25%            0.036050          0.353050          0.123375          0.000000   \n",
      "50%            0.188250          0.500250          0.271050          0.006500   \n",
      "75%            0.287425          0.670100          0.416700          0.018100   \n",
      "max            1.000000          1.000000          1.000000          1.000000   \n",
      "\n",
      "       OMENRAP_PARTTIME  OMAWDP8_PARTTIME  OMENRUP_PARTTIME  \n",
      "count       3221.000000       3221.000000       3221.000000  \n",
      "mean           0.207906          0.343603          0.430802  \n",
      "std            0.173015          0.222135          0.236872  \n",
      "min            0.000000          0.000000          0.000000  \n",
      "25%            0.038500          0.178200          0.255900  \n",
      "50%            0.210100          0.303600          0.416100  \n",
      "75%            0.317900          0.487800          0.576900  \n",
      "max            1.000000          1.000000          1.000000  \n",
      "\n",
      "[8 rows x 1876 columns]\n"
     ]
    }
   ],
   "source": [
    "print df.describe()"
   ]
  },
  {
   "cell_type": "code",
   "execution_count": null,
   "metadata": {},
   "outputs": [],
   "source": []
  }
 ],
 "metadata": {
  "kernelspec": {
   "display_name": "Python 2",
   "language": "python",
   "name": "python2"
  },
  "language_info": {
   "codemirror_mode": {
    "name": "ipython",
    "version": 2
   },
   "file_extension": ".py",
   "mimetype": "text/x-python",
   "name": "python",
   "nbconvert_exporter": "python",
   "pygments_lexer": "ipython2",
   "version": "2.7.16"
  }
 },
 "nbformat": 4,
 "nbformat_minor": 2
}
