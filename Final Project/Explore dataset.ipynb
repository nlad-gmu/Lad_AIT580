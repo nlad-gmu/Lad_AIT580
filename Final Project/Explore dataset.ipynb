{
 "cells": [
  {
   "cell_type": "code",
   "execution_count": 1,
   "metadata": {},
   "outputs": [],
   "source": [
    "import pandas as pd\n",
    "import numpy as np\n"
   ]
  },
  {
   "cell_type": "code",
   "execution_count": 4,
   "metadata": {},
   "outputs": [],
   "source": [
    "data1= pd.read_csv('C:\\Users\\Neha\\Desktop\\Neha\\MERGED2017_18_PP.csv',low_memory = False)"
   ]
  },
  {
   "cell_type": "code",
   "execution_count": 7,
   "metadata": {},
   "outputs": [],
   "source": [
    "total_count1=data1['ACCREDAGENCY'].value_counts('')"
   ]
  },
  {
   "cell_type": "code",
   "execution_count": 8,
   "metadata": {},
   "outputs": [
    {
     "data": {
      "text/plain": [
       "Higher Learning Commission                                                                                                                            1218\n",
       "National Accrediting Commission of Career Arts and Sciences                                                                                            964\n",
       "Southern Association of Colleges and Schools Commission on Colleges                                                                                    862\n",
       "Middle States Commission on Higher Education                                                                                                           665\n",
       "Accrediting Commission of Career Schools and Colleges                                                                                                  544\n",
       "Council on Occupational Education                                                                                                                      507\n",
       "Accrediting Bureau of Health Education Schools                                                                                                         230\n",
       "New England Commission on Higher Education                                                                                                             226\n",
       "Western Association of Schools and Colleges Senior Colleges and University Commission                                                                  197\n",
       "Northwest Commission on Colleges and Universities                                                                                                      173\n",
       "Western Association of Schools and Colleges Accrediting Commission for Community and Junior Colleges                                                   162\n",
       "Accrediting Council for Independent Colleges and Schools                                                                                               100\n",
       "Accrediting Council for Continuing Education & Training                                                                                                 86\n",
       "Commission on Accrediting of the Association of Theological Schools                                                                                     74\n",
       "Association of Advanced Rabbinical and Talmudic Schools                                                                                                 68\n",
       "Accreditation Commission for Education in Nursing                                                                                                       59\n",
       "Association for Bibical Higher Educaiton                                                                                                                51\n",
       "Oklahoma State Board of Career and Technology Education                                                                                                 42\n",
       "Transnational Association of Christian Colleges and Schools                                                                                             40\n",
       "Accrediting Commission for Acupuncture and Oriental Medicine                                                                                            32\n",
       "Distance Education Accrediting Commission                                                                                                               23\n",
       "Middle States Commission on Secondary Education                                                                                                         23\n",
       "Commission on Massage Therapy Accreditation                                                                                                             20\n",
       "New York State Board of Regents State Education Department Office of the Professions (Public Postsecondary Vocational Education Practical Nursing)      18\n",
       "American Bar Association                                                                                                                                17\n",
       "Joint Review Committee on Education in Radiologic Technology                                                                                            14\n",
       "Association of Institutions of Jewish Studies                                                                                                           10\n",
       "New York State Board of Regents and the Commissioner of Education                                                                                        8\n",
       "National Association of Schools of Theatre                                                                                                               8\n",
       "American Board of Funeral Service Education Committee on Accreditation                                                                                   8\n",
       "National Association of Schools of Arts and Design                                                                                                       8\n",
       "Pennsylvania State Board of Vocational Education                                                                                                         6\n",
       "National Association of Schools of Music                                                                                                                 6\n",
       "Puerto Rico State Agency for the Approval of Public Postsecondary Vocational and Technical Institutions and Programs                                     5\n",
       "Midwifery Education Accreditation Council                                                                                                                4\n",
       "American Osteopathic Association                                                                                                                         4\n",
       "Montessori Accreditation Council for Teacher Education                                                                                                   4\n",
       "National Association of Schools of Dance                                                                                                                 2\n",
       "American Podiatric Medical Association                                                                                                                   1\n",
       "Council on Accreditation of Nurse Anesthesia Educational Programs                                                                                        1\n",
       "Council on Occupational Education | Western Association of Schools and Colleges Commission                                                               1\n",
       "EXEMPT                                                                                                                                                   1\n",
       "American Dietetic Association                                                                                                                            1\n",
       "Name: ACCREDAGENCY, dtype: int64"
      ]
     },
     "execution_count": 8,
     "metadata": {},
     "output_type": "execute_result"
    }
   ],
   "source": [
    "total_count1"
   ]
  },
  {
   "cell_type": "code",
   "execution_count": null,
   "metadata": {},
   "outputs": [],
   "source": []
  }
 ],
 "metadata": {
  "kernelspec": {
   "display_name": "Python 2",
   "language": "python",
   "name": "python2"
  },
  "language_info": {
   "codemirror_mode": {
    "name": "ipython",
    "version": 2
   },
   "file_extension": ".py",
   "mimetype": "text/x-python",
   "name": "python",
   "nbconvert_exporter": "python",
   "pygments_lexer": "ipython2",
   "version": "2.7.16"
  }
 },
 "nbformat": 4,
 "nbformat_minor": 2
}
