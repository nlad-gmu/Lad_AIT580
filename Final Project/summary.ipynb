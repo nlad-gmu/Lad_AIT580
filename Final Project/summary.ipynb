{
 "cells": [
  {
   "cell_type": "code",
   "execution_count": 1,
   "metadata": {},
   "outputs": [],
   "source": [
    "import pandas as pd\n",
    "import numpy as np\n"
   ]
  },
  {
   "cell_type": "code",
   "execution_count": 3,
   "metadata": {},
   "outputs": [],
   "source": [
    "df= pd.read_csv('C:\\Users\\Neha\\Desktop\\Neha\\MERGED2017_18_PP.csv',low_memory = False)"
   ]
  },
  {
   "cell_type": "code",
   "execution_count": 4,
   "metadata": {},
   "outputs": [
    {
     "name": "stdout",
     "output_type": "stream",
     "text": [
      "             UNITID         OPEID        OPEID6  SCH_DEG         HCM2  \\\n",
      "count  7.112000e+03  7.112000e+03   7112.000000      0.0  7112.000000   \n",
      "mean   1.867121e+06  1.866750e+06  16755.217660      NaN     0.013920   \n",
      "std    6.958737e+06  3.315240e+06  14589.294487      NaN     0.117168   \n",
      "min    1.006540e+05  1.002000e+05   1002.000000      NaN     0.000000   \n",
      "25%    1.740728e+05  3.229750e+05   3224.750000      NaN     0.000000   \n",
      "50%    2.289995e+05  1.056050e+06  10542.000000      NaN     0.000000   \n",
      "75%    4.506005e+05  3.025825e+06  30106.000000      NaN     0.000000   \n",
      "max    4.900540e+07  8.209884e+07  42698.000000      NaN     1.000000   \n",
      "\n",
      "              MAIN    NUMBRANCH      PREDDEG      HIGHDEG      CONTROL  ...  \\\n",
      "count  7112.000000  7112.000000  7112.000000  7112.000000  7112.000000  ...   \n",
      "mean      0.767717     3.883155     1.834505     2.233830     2.129218  ...   \n",
      "std       0.422319     9.088975     1.057762     1.340925     0.834518  ...   \n",
      "min       0.000000     1.000000     0.000000     0.000000     1.000000  ...   \n",
      "25%       1.000000     1.000000     1.000000     1.000000     1.000000  ...   \n",
      "50%       1.000000     1.000000     2.000000     2.000000     2.000000  ...   \n",
      "75%       1.000000     2.000000     3.000000     4.000000     3.000000  ...   \n",
      "max       1.000000    73.000000     4.000000     4.000000     3.000000  ...   \n",
      "\n",
      "       OMAWDP8_NOTFIRSTTIME  OMENRUP_NOTFIRSTTIME  OMENRYP_FULLTIME  \\\n",
      "count           3813.000000           3813.000000       3940.000000   \n",
      "mean               0.507685              0.299692          0.009377   \n",
      "std                0.226742              0.207287          0.032317   \n",
      "min                0.000000              0.000000          0.000000   \n",
      "25%                0.327900              0.145200          0.000000   \n",
      "50%                0.510500              0.264200          0.002500   \n",
      "75%                0.676500              0.409100          0.011000   \n",
      "max                1.000000              1.000000          0.680400   \n",
      "\n",
      "       OMENRAP_FULLTIME  OMAWDP8_FULLTIME  OMENRUP_FULLTIME  OMENRYP_PARTTIME  \\\n",
      "count       3940.000000       3940.000000       3940.000000       3221.000000   \n",
      "mean           0.184474          0.515397          0.290753          0.017688   \n",
      "std            0.151615          0.210909          0.200173          0.062251   \n",
      "min            0.000000          0.000000          0.000000          0.000000   \n",
      "25%            0.036050          0.353050          0.123375          0.000000   \n",
      "50%            0.188250          0.500250          0.271050          0.006500   \n",
      "75%            0.287425          0.670100          0.416700          0.018100   \n",
      "max            1.000000          1.000000          1.000000          1.000000   \n",
      "\n",
      "       OMENRAP_PARTTIME  OMAWDP8_PARTTIME  OMENRUP_PARTTIME  \n",
      "count       3221.000000       3221.000000       3221.000000  \n",
      "mean           0.207906          0.343603          0.430802  \n",
      "std            0.173015          0.222135          0.236872  \n",
      "min            0.000000          0.000000          0.000000  \n",
      "25%            0.038500          0.178200          0.255900  \n",
      "50%            0.210100          0.303600          0.416100  \n",
      "75%            0.317900          0.487800          0.576900  \n",
      "max            1.000000          1.000000          1.000000  \n",
      "\n",
      "[8 rows x 1876 columns]\n"
     ]
    }
   ],
   "source": [
    "print df.describe()"
   ]
  },
  {
   "cell_type": "code",
   "execution_count": null,
   "metadata": {},
   "outputs": [],
   "source": []
  }
 ],
 "metadata": {
  "kernelspec": {
   "display_name": "Python 2",
   "language": "python",
   "name": "python2"
  },
  "language_info": {
   "codemirror_mode": {
    "name": "ipython",
    "version": 2
   },
   "file_extension": ".py",
   "mimetype": "text/x-python",
   "name": "python",
   "nbconvert_exporter": "python",
   "pygments_lexer": "ipython2",
   "version": "2.7.16"
  }
 },
 "nbformat": 4,
 "nbformat_minor": 2
}
